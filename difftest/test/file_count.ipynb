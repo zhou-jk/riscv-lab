{
 "cells": [
  {
   "cell_type": "code",
   "execution_count": 1,
   "metadata": {},
   "outputs": [
    {
     "name": "stdout",
     "output_type": "stream",
     "text": [
      "There are 15 'rv64mi-p-' files\n",
      "There are 7 'rv64si-p-' files\n",
      "There are 19 'rv64ua-p-' files\n",
      "There are 19 'rv64ua-v-' files\n",
      "There are 1 'rv64uc-p-' files\n",
      "There are 1 'rv64uc-v-' files\n",
      "There are 12 'rv64ud-p-' files\n",
      "There are 12 'rv64ud-v-' files\n",
      "There are 11 'rv64uf-p-' files\n",
      "There are 11 'rv64uf-v-' files\n",
      "There are 51 'rv64ui-p-' files\n",
      "There are 51 'rv64ui-v-' files\n",
      "There are 13 'rv64um-p-' files\n",
      "There are 13 'rv64um-v-' files\n"
     ]
    }
   ],
   "source": [
    "import os\n",
    "import re\n",
    "\n",
    "def count_files(directory):\n",
    "    files = os.listdir(directory)\n",
    "    categories = {}\n",
    "    for file in files:\n",
    "        if file.endswith('.dump'):\n",
    "            continue\n",
    "        match = re.match(r'rv64..-.-', file)\n",
    "        if match:\n",
    "            category = match.group(0)\n",
    "            if category not in categories:\n",
    "                categories[category] = 0\n",
    "            categories[category] += 1\n",
    "    return categories\n",
    "\n",
    "# 使用方法\n",
    "directory = \"./asm/riscv-test/isa\"  # 替换为你的目录路径\n",
    "categories = count_files(directory)\n",
    "for category, count in categories.items():\n",
    "    print(f\"There are {count} '{category}' files\")"
   ]
  }
 ],
 "metadata": {
  "kernelspec": {
   "display_name": "base",
   "language": "python",
   "name": "python3"
  },
  "language_info": {
   "codemirror_mode": {
    "name": "ipython",
    "version": 3
   },
   "file_extension": ".py",
   "mimetype": "text/x-python",
   "name": "python",
   "nbconvert_exporter": "python",
   "pygments_lexer": "ipython3",
   "version": "3.9.19"
  }
 },
 "nbformat": 4,
 "nbformat_minor": 2
}
